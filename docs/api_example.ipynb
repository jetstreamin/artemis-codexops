{
 "cells": [
  {
   "cell_type": "code",
   "execution_count": null,
   "metadata": {},
   "outputs": [],
   "source": [
    "# Sample API call\n",
    "import requests\n",
    "r = requests.get('https://artemis-codexops.fly.dev/api/artemis')\n",
    "print(r.json())"
   ]
  }
 ],
 "metadata": {},
 "nbformat": 4,
 "nbformat_minor": 2
}
